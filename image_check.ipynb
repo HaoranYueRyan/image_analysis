{
 "cells": [
  {
   "cell_type": "code",
   "execution_count": null,
   "metadata": {
    "collapsed": true
   },
   "outputs": [],
   "source": [
    "import skimage\n"
   ]
  },
  {
   "cell_type": "code",
   "execution_count": 5,
   "outputs": [
    {
     "name": "stdout",
     "output_type": "stream",
     "text": [
      "Found model '2D_versatile_fluo' for 'StarDist2D'.\n",
      "Loading network weights from 'weights_best.h5'.\n",
      "Loading thresholds from 'thresholds.json'.\n",
      "Using default values: prob_thresh=0.479071, nms_thresh=0.3.\n",
      "0\n"
     ]
    }
   ],
   "source": [
    "from stardist.models import StarDist2D\n",
    "from csbdeep.utils import normalize\n",
    "import skimage\n",
    "\n",
    "\n",
    "\n",
    "def Stardist_Segmentation(image):\n",
    "    \"\"\"\n",
    "    Perform Stardist Segmentation,\n",
    "    :param image: Image to Segment\n",
    "    :return: Segmented Objects and Labels\n",
    "    \"\"\"\n",
    "    model = StarDist2D.from_pretrained('2D_versatile_fluo')\n",
    "    label_objects, nb_labels = model.predict_instances(normalize(image))\n",
    "    print(len(nb_labels['coord']))\n",
    "    # cleared = remove_small_objects(clear_border(label_objects), 5)\n",
    "    # segmented_cells, cell_number = ndi.label(cleared)\n",
    "    return label_objects, nb_labels\n",
    "\n",
    "\n",
    "\n",
    "\n",
    "if __name__=='__main__':\n",
    "    origin_image = skimage.io.imread(\n",
    "        '/Users/haoranyue/Desktop/Quantify_intensity_level/images_corrected/corr_img_DAPI.tif')\n",
    "    Stardist_Segmentation(origin_image)\n",
    "\n",
    "    # %%\n"
   ],
   "metadata": {
    "collapsed": false
   }
  },
  {
   "cell_type": "code",
   "execution_count": 3,
   "outputs": [
    {
     "name": "stdout",
     "output_type": "stream",
     "text": [
      "There are 4 registered models for 'StarDist2D':\n",
      "\n",
      "Name                  Alias(es)\n",
      "────                  ─────────\n",
      "'2D_versatile_fluo'   'Versatile (fluorescent nuclei)'\n",
      "'2D_versatile_he'     'Versatile (H&E nuclei)'\n",
      "'2D_paper_dsb2018'    'DSB 2018 (from StarDist 2D paper)'\n",
      "'2D_demo'             None\n"
     ]
    }
   ],
   "source": [
    "\n",
    "# prints a list of available models\n",
    "StarDist2D.from_pretrained()\n"
   ],
   "metadata": {
    "collapsed": false
   }
  }
 ],
 "metadata": {
  "kernelspec": {
   "display_name": "Python 3",
   "language": "python",
   "name": "python3"
  },
  "language_info": {
   "codemirror_mode": {
    "name": "ipython",
    "version": 2
   },
   "file_extension": ".py",
   "mimetype": "text/x-python",
   "name": "python",
   "nbconvert_exporter": "python",
   "pygments_lexer": "ipython2",
   "version": "2.7.6"
  }
 },
 "nbformat": 4,
 "nbformat_minor": 0
}
